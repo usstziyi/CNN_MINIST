{
 "cells": [
  {
   "cell_type": "markdown",
   "id": "5456be6f",
   "metadata": {},
   "source": [
    "## 解决matplotlib中文乱码问题\n"
   ]
  },
  {
   "cell_type": "code",
   "execution_count": null,
   "id": "22e7cba8",
   "metadata": {},
   "outputs": [],
   "source": [
    "import matplotlib as mpl\n",
    "print(mpl.get_cachedir())\n",
    "print(mpl.matplotlib_fname())"
   ]
  },
  {
   "cell_type": "markdown",
   "id": "ac50dcd3",
   "metadata": {},
   "source": [
    "       \n",
    "## 修改matplotlibrc文件解决中文乱码问题，需要修改以下几行：\n",
    "\n",
    "1. 修改字体族设置（通常在文件前部分）：\n",
    "font.family:  sans-serif\n",
    "2. 修改无衬线字体列表（添加中文字体，通常在文件中部）：\n",
    "font.sans-serif:  SimHei, WenQuanYi Micro Hei, Heiti TC, DejaVu Sans, Bitstream Vera Sans, Computer Modern Sans Serif, Lucida Grande, Verdana, Geneva, Lucid, Arial, Helvetica, Avant Garde, sans-serif\n",
    "- 通常matplotlibrc文件中的这些行可能被注释掉（以#开头），需要移除注释符号并修改值\n",
    "- SimHei是Windows系统常用的中文字体，WenQuanYi Micro Hei在Linux系统较常见，Heiti TC适用于macOS\n",
    "- 您可以根据自己系统已安装的字体进行调整，常见的中文字体还包括：Microsoft YaHei、FangSong、KaiTi等\n",
    "3. 修改负号显示设置（确保负号正常显示）：\n",
    "axes.unicode_minus: False\n",
    "4. 删除之前的缓存文件，或者重启Jupyter环境才能使设置生效\n",
    "        \n",
    "        "
   ]
  }
 ],
 "metadata": {
  "kernelspec": {
   "display_name": "py313",
   "language": "python",
   "name": "python3"
  },
  "language_info": {
   "codemirror_mode": {
    "name": "ipython",
    "version": 3
   },
   "file_extension": ".py",
   "mimetype": "text/x-python",
   "name": "python",
   "nbconvert_exporter": "python",
   "pygments_lexer": "ipython3",
   "version": "3.13.5"
  }
 },
 "nbformat": 4,
 "nbformat_minor": 5
}
