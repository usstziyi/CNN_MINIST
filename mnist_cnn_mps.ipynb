{
 "cells": [
  {
   "cell_type": "markdown",
   "metadata": {},
   "source": [
    "# 手写数字识别 CNN (使用 MPS 加速)"
   ]
  },
  {
   "cell_type": "code",
   "execution_count": 2,
   "id": "e20ce9e6",
   "metadata": {},
   "outputs": [
    {
     "name": "stdout",
     "output_type": "stream",
     "text": [
      "使用设备: cpu\n"
     ]
    }
   ],
   "source": [
    "import torch\n",
    "import torch.nn as nn\n",
    "import torch.nn.functional as F\n",
    "import torch.optim as optim\n",
    "from torchvision import datasets, transforms\n",
    "from torch.utils.data import DataLoader\n",
    "import os\n",
    "import time\n",
    "\n",
    "# 检查MPS设备是否可用\n",
    "device = torch.device(\"mps\" if torch.backends.mps.is_available() else \"cpu\")\n",
    "print(f\"使用设备: {device}\")"
   ]
  },
  {
   "cell_type": "code",
   "execution_count": 3,
   "id": "84deaf90",
   "metadata": {},
   "outputs": [],
   "source": [
    "# 定义CNN模型\n",
    "class SimpleCNN(nn.Module):\n",
    "    def __init__(self):\n",
    "        super(SimpleCNN, self).__init__()\n",
    "        # 第一层卷积: 1个输入通道, 32个输出通道,  kernel_size=3\n",
    "        self.conv1 = nn.Conv2d(1, 32, kernel_size=3, stride=1, padding=1)\n",
    "        # 第二层卷积: 32个输入通道, 64个输出通道, kernel_size=3\n",
    "        self.conv2 = nn.Conv2d(32, 64, kernel_size=3, stride=1, padding=1)\n",
    "        # 池化层: kernel_size=2, stride=2\n",
    "        self.pool = nn.MaxPool2d(kernel_size=2, stride=2)\n",
    "        # 全连接层: 7*7*64 -> 128\n",
    "        self.fc1 = nn.Linear(7*7*64, 128)\n",
    "        # 全连接层: 128 -> 10 (10个类别)\n",
    "        self.fc2 = nn.Linear(128, 10)\n",
    "        # Dropout层\n",
    "        self.dropout = nn.Dropout(0.5)\n",
    "\n",
    "    def forward(self, x):\n",
    "        # 第一层卷积 + ReLU + 池化\n",
    "        x = self.pool(F.relu(self.conv1(x)))\n",
    "        # 第二层卷积 + ReLU + 池化\n",
    "        x = self.pool(F.relu(self.conv2(x)))\n",
    "        # 展平\n",
    "        x = x.view(-1, 7*7*64)\n",
    "        # 全连接层 + ReLU + Dropout\n",
    "        x = self.dropout(F.relu(self.fc1(x)))\n",
    "        # 输出层\n",
    "        x = self.fc2(x)\n",
    "        return x"
   ]
  },
  {
   "cell_type": "code",
   "execution_count": 4,
   "id": "d15cf43a",
   "metadata": {},
   "outputs": [],
   "source": [
    "# 数据预处理\n",
    "transform = transforms.Compose([\n",
    "    transforms.ToTensor(),\n",
    "    transforms.Normalize((0.1307,), (0.3081,))\n",
    "])\n",
    "\n",
    "# 加载MNIST数据集\n",
    "train_dataset = datasets.MNIST(\n",
    "    root='./data', train=True, download=True, transform=transform\n",
    ")\n",
    "\n",
    "test_dataset = datasets.MNIST(\n",
    "    root='./data', train=False, download=True, transform=transform\n",
    ")\n",
    "\n",
    "# 创建数据加载器\n",
    "batch_size = 64\n",
    "train_loader = DataLoader(train_dataset, batch_size=batch_size, shuffle=True)\n",
    "test_loader = DataLoader(test_dataset, batch_size=batch_size, shuffle=False)"
   ]
  },
  {
   "cell_type": "code",
   "execution_count": 5,
   "id": "2d542ad9",
   "metadata": {},
   "outputs": [],
   "source": [
    "# 初始化模型、损失函数和优化器\n",
    "model = SimpleCNN().to(device)\n",
    "criterion = nn.CrossEntropyLoss()\n",
    "optimizer = optim.Adam(model.parameters(), lr=0.001)"
   ]
  },
  {
   "cell_type": "code",
   "execution_count": 6,
   "id": "e154c940",
   "metadata": {},
   "outputs": [],
   "source": [
    "# 训练模型\n",
    "def train(model, device, train_loader, optimizer, criterion, epoch):\n",
    "    model.train()\n",
    "    running_loss = 0.0\n",
    "    for batch_idx, (data, target) in enumerate(train_loader):\n",
    "        data, target = data.to(device), target.to(device)\n",
    "\n",
    "        optimizer.zero_grad()\n",
    "        output = model(data)\n",
    "        loss = criterion(output, target)\n",
    "        loss.backward()\n",
    "        optimizer.step()\n",
    "\n",
    "        running_loss += loss.item()\n",
    "        if batch_idx % 100 == 99:\n",
    "            print(f'[{epoch}, {batch_idx+1}] loss: {running_loss/100:.3f}')\n",
    "            running_loss = 0.0\n",
    "\n",
    "# 测试模型\n",
    "def test(model, device, test_loader, criterion):\n",
    "    model.eval()\n",
    "    test_loss = 0\n",
    "    correct = 0\n",
    "    with torch.no_grad():\n",
    "        for data, target in test_loader:\n",
    "            data, target = data.to(device), target.to(device)\n",
    "            output = model(data)\n",
    "            test_loss += criterion(output, target).item()\n",
    "            pred = output.argmax(dim=1, keepdim=True)\n",
    "            correct += pred.eq(target.view_as(pred)).sum().item()\n",
    "\n",
    "    test_loss /= len(test_loader.dataset)\n",
    "    accuracy = 100. * correct / len(test_loader.dataset)\n",
    "    print(f'Test set: Average loss: {test_loss:.4f}, Accuracy: {correct}/{len(test_loader.dataset)} ({accuracy:.2f}%)')"
   ]
  },
  {
   "cell_type": "code",
   "execution_count": 7,
   "id": "6ed2d82e",
   "metadata": {},
   "outputs": [
    {
     "name": "stdout",
     "output_type": "stream",
     "text": [
      "[1, 100] loss: 0.755\n",
      "[1, 200] loss: 0.255\n",
      "[1, 300] loss: 0.177\n",
      "[1, 400] loss: 0.166\n",
      "[1, 500] loss: 0.143\n",
      "[1, 600] loss: 0.128\n",
      "[1, 700] loss: 0.122\n",
      "[1, 800] loss: 0.114\n",
      "[1, 900] loss: 0.105\n",
      "Test set: Average loss: 0.0008, Accuracy: 9838/10000 (98.38%)\n",
      "[2, 100] loss: 0.088\n",
      "[2, 200] loss: 0.102\n",
      "[2, 300] loss: 0.081\n",
      "[2, 400] loss: 0.084\n",
      "[2, 500] loss: 0.075\n",
      "[2, 600] loss: 0.076\n",
      "[2, 700] loss: 0.082\n",
      "[2, 800] loss: 0.076\n",
      "[2, 900] loss: 0.077\n",
      "Test set: Average loss: 0.0007, Accuracy: 9860/10000 (98.60%)\n",
      "[3, 100] loss: 0.056\n",
      "[3, 200] loss: 0.062\n",
      "[3, 300] loss: 0.058\n",
      "[3, 400] loss: 0.064\n",
      "[3, 500] loss: 0.074\n",
      "[3, 600] loss: 0.056\n",
      "[3, 700] loss: 0.057\n",
      "[3, 800] loss: 0.048\n",
      "[3, 900] loss: 0.074\n",
      "Test set: Average loss: 0.0005, Accuracy: 9890/10000 (98.90%)\n",
      "[4, 100] loss: 0.050\n",
      "[4, 200] loss: 0.046\n",
      "[4, 300] loss: 0.044\n",
      "[4, 400] loss: 0.053\n",
      "[4, 500] loss: 0.057\n",
      "[4, 600] loss: 0.042\n",
      "[4, 700] loss: 0.043\n",
      "[4, 800] loss: 0.053\n",
      "[4, 900] loss: 0.053\n",
      "Test set: Average loss: 0.0004, Accuracy: 9911/10000 (99.11%)\n",
      "[5, 100] loss: 0.033\n",
      "[5, 200] loss: 0.042\n",
      "[5, 300] loss: 0.046\n",
      "[5, 400] loss: 0.046\n",
      "[5, 500] loss: 0.039\n",
      "[5, 600] loss: 0.040\n",
      "[5, 700] loss: 0.043\n",
      "[5, 800] loss: 0.038\n",
      "[5, 900] loss: 0.043\n",
      "Test set: Average loss: 0.0004, Accuracy: 9900/10000 (99.00%)\n",
      "训练和测试总用时: 125.35秒\n",
      "模型已保存为 model/mnist_cnn_model.pth\n"
     ]
    }
   ],
   "source": [
    "# 开始训练和测试\n",
    "epochs = 5\n",
    "start_time = time.time()\n",
    "\n",
    "for epoch in range(1, epochs + 1):\n",
    "    train(model, device, train_loader, optimizer, criterion, epoch)\n",
    "    test(model, device, test_loader, criterion)\n",
    "\n",
    "end_time = time.time()\n",
    "print(f'训练和测试总用时: {end_time - start_time:.2f}秒')\n",
    "\n",
    "# 保存模型\n",
    "os.makedirs('model', exist_ok=True)  # 确保model目录存在\n",
    "torch.save(model.state_dict(), 'model/mnist_cnn_model.pth')\n",
    "print('模型已保存为 model/mnist_cnn_model.pth')"
   ]
  },
  {
   "cell_type": "markdown",
   "id": "e4a0a0f9",
   "metadata": {},
   "source": [
    "## 模型预测演示"
   ]
  },
  {
   "cell_type": "code",
   "execution_count": 8,
   "id": "a9fd8117",
   "metadata": {},
   "outputs": [
    {
     "data": {
      "image/png": "[encoded data removed]",
      "text/plain": [
       "<Figure size 1200x300 with 5 Axes>"
      ]
     },
     "metadata": {},
     "output_type": "display_data"
    }
   ],
   "source": [
    "import matplotlib.pyplot as plt\n",
    "\n",
    "# # 设置字体以支持中文\n",
    "# # 以 Windows 为例，使用 'SimHei'\n",
    "# plt.rcParams['font.sans-serif'] = ['PingFang SC']\n",
    "# # 解决负号 '-' 显示为方块的问题\n",
    "# plt.rcParams['axes.unicode_minus'] = False\n",
    "\n",
    "\n",
    "# import matplotlib as mpl\n",
    "# print(mpl.get_cachedir())\n",
    "# print(mpl.matplotlib_fname())\n",
    "\n",
    "# 加载测试图像并显示\n",
    "def visualize_prediction(model, device, test_loader, num_samples=5):\n",
    "    model.eval()\n",
    "    images, labels = next(iter(test_loader))\n",
    "    images, labels = images[:num_samples].to(device), labels[:num_samples].to(device)\n",
    "    \n",
    "    with torch.no_grad():\n",
    "        outputs = model(images)\n",
    "        _, predicted = torch.max(outputs, 1)\n",
    "    \n",
    "    fig, axes = plt.subplots(1, num_samples, figsize=(12, 3))\n",
    "    for i in range(num_samples):\n",
    "        ax = axes[i]\n",
    "        ax.imshow(images[i].cpu().numpy().squeeze(), cmap='gray')\n",
    "        ax.set_title(f'真实: {labels[i].item()}, 预测: {predicted[i].item()}')\n",
    "        ax.axis('off')\n",
    "    plt.tight_layout()\n",
    "    plt.show()\n",
    "\n",
    "# 可视化预测结果\n",
    "visualize_prediction(model, device, test_loader)"
   ]
  },
  {
   "cell_type": "code",
   "execution_count": 9,
   "id": "0515dde6",
   "metadata": {},
   "outputs": [
    {
     "name": "stdout",
     "output_type": "stream",
     "text": [
      "MPS 不可用，将使用默认设备\n",
      "模型加载成功！\n"
     ]
    },
    {
     "data": {
      "image/png": "[encoded data removed]",
      "text/plain": [
       "<Figure size 1200x300 with 5 Axes>"
      ]
     },
     "metadata": {},
     "output_type": "display_data"
    }
   ],
   "source": [
    "# `mnist_cnn_model.pth` 通常是 PyTorch 保存的模型文件，下面展示如何加载和使用这个文件。\n",
    "\n",
    "import torch\n",
    "from torchvision import datasets, transforms\n",
    "import torch.nn as nn\n",
    "\n",
    "# 定义与保存模型时相同的模型结构\n",
    "class SimpleCNN(nn.Module):\n",
    "    def __init__(self):\n",
    "        super(SimpleCNN, self).__init__()\n",
    "        # 第一层卷积: 1个输入通道, 32个输出通道,  kernel_size=3\n",
    "        self.conv1 = nn.Conv2d(1, 32, kernel_size=3, stride=1, padding=1)\n",
    "        # 第二层卷积: 32个输入通道, 64个输出通道, kernel_size=3\n",
    "        self.conv2 = nn.Conv2d(32, 64, kernel_size=3, stride=1, padding=1)\n",
    "        # 池化层: kernel_size=2, stride=2\n",
    "        self.pool = nn.MaxPool2d(kernel_size=2, stride=2)\n",
    "        # 全连接层: 7*7*64 -> 128\n",
    "        self.fc1 = nn.Linear(7*7*64, 128)\n",
    "        # 全连接层: 128 -> 10 (10个类别)\n",
    "        self.fc2 = nn.Linear(128, 10)\n",
    "        # Dropout层\n",
    "        self.dropout = nn.Dropout(0.5)\n",
    "\n",
    "    def forward(self, x):\n",
    "        # 第一层卷积 + ReLU + 池化\n",
    "        x = self.pool(F.relu(self.conv1(x)))\n",
    "        # 第二层卷积 + ReLU + 池化\n",
    "        x = self.pool(F.relu(self.conv2(x)))\n",
    "        # 展平\n",
    "        x = x.view(-1, 7*7*64)\n",
    "        # 全连接层 + ReLU + Dropout\n",
    "        x = self.dropout(F.relu(self.fc1(x)))\n",
    "        # 输出层\n",
    "        x = self.fc2(x)\n",
    "        return x\n",
    "\n",
    "# 检查 mps 是否可用\n",
    "if torch.backends.mps.is_available():\n",
    "    device = torch.device(\"mps\")\n",
    "    print(\"MPS 可用，将使用 MPS 设备\")\n",
    "else:\n",
    "    print(\"MPS 不可用，将使用默认设备\")\n",
    "    device = torch.device(\"cpu\")\n",
    "\n",
    "# 初始化模型并创建在指定设备中\n",
    "model = SimpleCNN().to(device)\n",
    "\n",
    "# 加载模型权重\n",
    "try:\n",
    "    # 直接使用 mps 加载模型权重\n",
    "    model.load_state_dict(torch.load('model/mnist_cnn_model.pth', map_location=device))\n",
    "    model.eval()  # 设置为评估模式\n",
    "    print(\"模型加载成功！\")\n",
    "except FileNotFoundError:\n",
    "    print(\"未找到 model/mnist_cnn_model.pth 文件，请检查文件路径。\")\n",
    "except Exception as e:\n",
    "    print(f\"加载模型时出错: {e}\")\n",
    "\n",
    "# 导入 MNIST 测试集\n",
    "# 定义数据预处理\n",
    "transform = transforms.Compose([\n",
    "    transforms.ToTensor(),\n",
    "    transforms.Normalize((0.1307,), (0.3081,))\n",
    "])\n",
    "\n",
    "# 加载测试集\n",
    "test_dataset = datasets.MNIST('./data', train=False, download=True, transform=transform)\n",
    "test_loader = torch.utils.data.DataLoader(test_dataset, batch_size=64, shuffle=False)\n",
    "\n",
    "# # 获取一个测试样本\n",
    "# data, _ = next(iter(test_loader))\n",
    "# data = data.to(device)\n",
    "\n",
    "# with torch.no_grad():\n",
    "#     output = model(data)\n",
    "#     predicted_class = torch.argmax(output, dim=1)\n",
    "#     print(f\"预测的类别是: {predicted_class.item()}\")\n",
    "\n",
    "\n",
    "# 加载测试图像并显示\n",
    "def visualize_prediction(model, device, test_loader, num_samples=5):\n",
    "    model.eval()\n",
    "    images, labels = next(iter(test_loader))\n",
    "    images, labels = images[:num_samples].to(device), labels[:num_samples].to(device)\n",
    "    \n",
    "    with torch.no_grad():\n",
    "        outputs = model(images)\n",
    "        _, predicted = torch.max(outputs, 1)\n",
    "    \n",
    "    fig, axes = plt.subplots(1, num_samples, figsize=(12, 3))\n",
    "    for i in range(num_samples):\n",
    "        ax = axes[i]\n",
    "        ax.imshow(images[i].cpu().numpy().squeeze(), cmap='gray')\n",
    "        ax.set_title(f'真实: {labels[i].item()}, 预测: {predicted[i].item()}')\n",
    "        ax.axis('off')\n",
    "    plt.tight_layout()\n",
    "    plt.show()\n",
    "\n",
    "# 可视化预测结果\n",
    "visualize_prediction(model, device, test_loader)\n"
   ]
  },
  {
   "cell_type": "code",
   "execution_count": 10,
   "id": "fa59055b",
   "metadata": {},
   "outputs": [
    {
     "name": "stdout",
     "output_type": "stream",
     "text": [
      "C:\\Users\\15221\\.matplotlib\n",
      "d:\\pythonenvs\\py313\\Lib\\site-packages\\matplotlib\\mpl-data\\matplotlibrc\n"
     ]
    }
   ],
   "source": [
    "import matplotlib as mpl\n",
    "print(mpl.get_cachedir())\n",
    "print(mpl.matplotlib_fname())"
   ]
  }
 ],
 "metadata": {
  "kernelspec": {
   "display_name": "py313",
   "language": "python",
   "name": "python3"
  },
  "language_info": {
   "codemirror_mode": {
    "name": "ipython",
    "version": 3
   },
   "file_extension": ".py",
   "mimetype": "text/x-python",
   "name": "python",
   "nbconvert_exporter": "python",
   "pygments_lexer": "ipython3",
   "version": "3.13.5"
  }
 },
 "nbformat": 4,
 "nbformat_minor": 5
}
