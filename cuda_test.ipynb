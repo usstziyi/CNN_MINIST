{
 "cells": [
  {
   "cell_type": "markdown",
   "id": "8fe10e05",
   "metadata": {},
   "source": [
    "# CUDA 加速测试\n",
    "\n",
    "这个 Jupyter Notebook 用于测试当前机器是否支持 NVIDIA GPU 的 CUDA 加速。我们将使用 PyTorch 库来检测 CUDA 是否可用。\n",
    "\n",
    "## 测试目的\n",
    "- 检查系统是否安装了支持 CUDA 的 NVIDIA GPU\n",
    "- 确认 PyTorch 是否能够正确识别 CUDA 设备\n",
    "- 获取 CUDA 设备的基本信息（数量和名称）"
   ]
  },
  {
   "cell_type": "code",
   "execution_count": 1,
   "id": "4e6a8a0d",
   "metadata": {},
   "outputs": [
    {
     "name": "stdout",
     "output_type": "stream",
     "text": [
      "CUDA 可用性: True\n",
      "CUDA 设备数量: 1\n",
      "设备 0 名称: NVIDIA GeForce RTX 3070\n",
      "当前使用的设备: 0 (NVIDIA GeForce RTX 3070)\n",
      "设备计算能力: 8.6\n",
      "设备内存总量: 8.00 GB\n"
     ]
    }
   ],
   "source": [
    "import torch\n",
    "\n",
    "# 检查是否有可用的 CUDA 设备\n",
    "cuda_available = torch.cuda.is_available()\n",
    "print(f\"CUDA 可用性: {cuda_available}\")\n",
    "\n",
    "if cuda_available:\n",
    "    # 打印 CUDA 设备数量\n",
    "    device_count = torch.cuda.device_count()\n",
    "    print(f\"CUDA 设备数量: {device_count}\")\n",
    "    \n",
    "    # 打印每个 CUDA 设备的名称\n",
    "    for i in range(device_count):\n",
    "        device_name = torch.cuda.get_device_name(i)\n",
    "        print(f\"设备 {i} 名称: {device_name}\")\n",
    "        \n",
    "    # 显示当前使用的设备\n",
    "    current_device = torch.cuda.current_device()\n",
    "    print(f\"当前使用的设备: {current_device} ({torch.cuda.get_device_name(current_device)})\")\n",
    "    \n",
    "    # 一些设备属性\n",
    "    device_properties = torch.cuda.get_device_properties(current_device)\n",
    "    print(f\"设备计算能力: {device_properties.major}.{device_properties.minor}\")\n",
    "    print(f\"设备内存总量: {device_properties.total_memory / 1024**3:.2f} GB\")\n",
    "else:\n",
    "    print(\"未检测到可用的 CUDA 设备。\")"
   ]
  },
  {
   "cell_type": "markdown",
   "id": "735bb776",
   "metadata": {},
   "source": [
    "## 结果解释\n",
    "\n",
    "- 如果输出显示 \"CUDA 可用性: True\"，表示您的系统支持 CUDA 加速\n",
    "- 接下来会显示可用的 CUDA 设备数量和每个设备的名称\n",
    "- 还会显示当前使用的设备以及该设备的计算能力和内存总量\n",
    "- 如果输出显示 \"CUDA 可用性: False\"，表示您的系统不支持 CUDA 加速，可能是因为:\n",
    "  1. 没有 NVIDIA GPU\n",
    "  2. 没有安装 NVIDIA 显卡驱动\n",
    "  3. 没有安装支持 CUDA 的 PyTorch 版本\n",
    "\n",
    "## 注意事项\n",
    "\n",
    "- 即使您有 NVIDIA GPU，也需要安装正确的显卡驱动和支持 CUDA 的 PyTorch 版本\n",
    "- 要充分利用 GPU 加速，在编写代码时需要将模型和数据显式地移至 GPU 设备上\n",
    "- 不同的 GPU 具有不同的计算能力和内存容量，这可能会影响模型的训练速度和规模"
   ]
  }
 ],
 "metadata": {
  "kernelspec": {
   "display_name": "py313",
   "language": "python",
   "name": "python3"
  },
  "language_info": {
   "codemirror_mode": {
    "name": "ipython",
    "version": 3
   },
   "file_extension": ".py",
   "mimetype": "text/x-python",
   "name": "python",
   "nbconvert_exporter": "python",
   "pygments_lexer": "ipython3",
   "version": "3.13.5"
  }
 },
 "nbformat": 4,
 "nbformat_minor": 5
}
