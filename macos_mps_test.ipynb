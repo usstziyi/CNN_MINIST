{
 "cells": [
  {
   "cell_type": "code",
   "execution_count": 1,
   "id": "55c77342",
   "metadata": {},
   "outputs": [
    {
     "name": "stdout",
     "output_type": "stream",
     "text": [
      "MPS device not found.\n"
     ]
    }
   ],
   "source": [
    "import torch\n",
    "\n",
    "if torch.backends.mps.is_available():\n",
    "    mps_device = torch.device(\"mps\")\n",
    "    x = torch.ones(1, device=mps_device)\n",
    "    print(x)\n",
    "else:\n",
    "    print(\"MPS device not found.\")"
   ]
  },
  {
   "cell_type": "code",
   "execution_count": 2,
   "id": "20c335eb",
   "metadata": {},
   "outputs": [
    {
     "name": "stdout",
     "output_type": "stream",
     "text": [
      "MPS 设备不可用，请确保你的 macOS 版本为 12.3 或更高，且使用的是 Apple Silicon 芯片或支持 Metal 的 Mac。\n"
     ]
    }
   ],
   "source": [
    "import torch\n",
    "\n",
    "# 检查是否支持 MPS\n",
    "if torch.backends.mps.is_available():\n",
    "    # 获取 MPS 设备数量\n",
    "    # 注意：目前 PyTorch 的 MPS 后端通常只支持单个 MPS 设备\n",
    "    print(\"MPS 设备可用\")\n",
    "    # 这里虽然没有直接获取设备数量的 API，但可以通过尝试创建设备来验证\n",
    "    try:\n",
    "        device = torch.device(\"mps\")\n",
    "        print(f\"当前系统支持 MPS 设备，设备为: {device}\")\n",
    "        print(\"由于 MPS 后端通常只支持单个设备，当前检测到的 MPS 设备数量为 1\")\n",
    "    except Exception as e:\n",
    "        print(f\"创建 MPS 设备时出错: {e}\")\n",
    "else:\n",
    "    print(\"MPS 设备不可用，请确保你的 macOS 版本为 12.3 或更高，且使用的是 Apple Silicon 芯片或支持 Metal 的 Mac。\")\n"
   ]
  }
 ],
 "metadata": {
  "kernelspec": {
   "display_name": "py313",
   "language": "python",
   "name": "python3"
  },
  "language_info": {
   "codemirror_mode": {
    "name": "ipython",
    "version": 3
   },
   "file_extension": ".py",
   "mimetype": "text/x-python",
   "name": "python",
   "nbconvert_exporter": "python",
   "pygments_lexer": "ipython3",
   "version": "3.13.5"
  }
 },
 "nbformat": 4,
 "nbformat_minor": 5
}
